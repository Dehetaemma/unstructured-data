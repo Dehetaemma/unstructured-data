{
 "cells": [
  {
   "cell_type": "code",
   "execution_count": null,
   "id": "f711638d-ff74-4238-a87b-6546f7122b98",
   "metadata": {},
   "outputs": [],
   "source": [
    "#Sentiment Analysis"
   ]
  },
  {
   "cell_type": "code",
   "execution_count": 1,
   "id": "dd6bda61-49e5-490d-a50e-32638c1f859b",
   "metadata": {},
   "outputs": [
    {
     "name": "stderr",
     "output_type": "stream",
     "text": [
      "[nltk_data] Downloading package stopwords to\n",
      "[nltk_data]     /Users/akuedeheta/nltk_data...\n",
      "[nltk_data]   Unzipping corpora/stopwords.zip.\n"
     ]
    },
    {
     "data": {
      "text/plain": [
       "True"
      ]
     },
     "execution_count": 1,
     "metadata": {},
     "output_type": "execute_result"
    }
   ],
   "source": [
    "import pandas as pd\n",
    "from nltk.corpus import stopwords\n",
    "from collections import Counter\n",
    "import re\n",
    "\n",
    "# Download NLTK stopwords (only need to do this once)\n",
    "import nltk\n",
    "nltk.download('stopwords')"
   ]
  },
  {
   "cell_type": "code",
   "execution_count": 3,
   "id": "3f3857f9-5a28-46fb-9a85-19a690d91c20",
   "metadata": {},
   "outputs": [],
   "source": [
    "# Load the CSV file\n",
    "df = pd.read_csv('CLEANED_data_job_descriptions.csv')"
   ]
  },
  {
   "cell_type": "code",
   "execution_count": 5,
   "id": "a8e858a2-bcf2-4787-a55d-c5d04bd26019",
   "metadata": {},
   "outputs": [],
   "source": [
    "# Get English stopwords\n",
    "stop_words = set(stopwords.words('english'))\n",
    "\n",
    "# Function to remove stopwords\n",
    "def remove_stopwords(text):\n",
    "    if isinstance(text, str):\n",
    "        return ' '.join([word for word in text.split() if word.lower() not in stop_words])\n",
    "    return text\n",
    "\n",
    "# Apply to Job Description and Skills columns\n",
    "df['Job.Description'] = df['Job.Description'].apply(remove_stopwords)\n",
    "df['skills'] = df['skills'].apply(remove_stopwords)"
   ]
  },
  {
   "cell_type": "code",
   "execution_count": 7,
   "id": "0f14b874-7a33-4895-8c45-8544a9812be4",
   "metadata": {},
   "outputs": [
    {
     "name": "stdout",
     "output_type": "stream",
     "text": [
      "Job Description - Programming Language Counts:\n",
      "[('r', 299111), ('sql', 2026), ('go', 1429), ('python', 0), ('java', 0), ('javascript', 0), ('c++', 0), ('c#', 0), ('swift', 0), ('kotlin', 0), ('ruby', 0), ('php', 0)]\n"
     ]
    }
   ],
   "source": [
    "# List of top programming languages\n",
    "programming_languages = ['python', 'java', 'sql', 'javascript', 'c++', 'c#', 'r', 'go', 'swift', 'kotlin', 'ruby', 'php']\n",
    "\n",
    "# Function to count programming languages in a text\n",
    "def count_programming_languages(text, languages):\n",
    "    if isinstance(text, str):\n",
    "        return {lang: text.lower().count(lang) for lang in languages}\n",
    "    return {}\n",
    "\n",
    "# Apply to Job Description\n",
    "df['Job.Description_Lang_Count'] = df['Job.Description'].apply(lambda x: count_programming_languages(x, programming_languages))\n",
    "\n",
    "# Summarize counts\n",
    "job_desc_lang_counts = Counter()\n",
    "for counts in df['Job.Description_Lang_Count']:\n",
    "    job_desc_lang_counts.update(counts)\n",
    "\n",
    "print(\"Job Description - Programming Language Counts:\")\n",
    "print(job_desc_lang_counts.most_common())"
   ]
  },
  {
   "cell_type": "code",
   "execution_count": 9,
   "id": "04ba9fe5-97af-48ac-bf50-ad221d7fb384",
   "metadata": {},
   "outputs": [
    {
     "name": "stdout",
     "output_type": "stream",
     "text": [
      "Skills - Top 20 Words:\n",
      "[('Data', 27640), ('analysis', 19700), ('(e.g.,', 15194), ('Network', 7870), ('skills', 6780), ('security', 6372), ('management', 6369), ('research', 6160), ('Troubleshooting', 5734), ('Database', 5551), ('modeling', 5542), ('data', 5538), ('design', 5521), ('visualization', 5469), ('SQL', 4870), ('technologies', 4157), ('Market', 4146), ('systems', 4128), ('Statistical', 4056), ('certifications', 3596)]\n"
     ]
    }
   ],
   "source": [
    "# Combine all skills into a single string\n",
    "all_skills = ' '.join(df['skills'].dropna())\n",
    "\n",
    "# Split into words and count\n",
    "skill_words = all_skills.split()\n",
    "skill_word_counts = Counter(skill_words)\n",
    "\n",
    "# Remove stopwords and get top 20\n",
    "top_20_skills = skill_word_counts.most_common(20)\n",
    "print(\"Skills - Top 20 Words:\")\n",
    "print(top_20_skills)"
   ]
  },
  {
   "cell_type": "code",
   "execution_count": 11,
   "id": "a4d16e8e-f214-4a73-8d59-af92cc320472",
   "metadata": {},
   "outputs": [
    {
     "name": "stdout",
     "output_type": "stream",
     "text": [
      "Skills - Programming Language Counts:\n",
      "[('r', 183300), ('sql', 5510), ('python', 3504), ('go', 3454), ('java', 696), ('javascript', 0), ('c++', 0), ('c#', 0), ('swift', 0), ('kotlin', 0), ('ruby', 0), ('php', 0)]\n"
     ]
    }
   ],
   "source": [
    "# Apply programming language count to Skills column\n",
    "df['Skills_Lang_Count'] = df['skills'].apply(lambda x: count_programming_languages(x, programming_languages))\n",
    "\n",
    "# Summarize counts\n",
    "skills_lang_counts = Counter()\n",
    "for counts in df['Skills_Lang_Count']:\n",
    "    skills_lang_counts.update(counts)\n",
    "\n",
    "print(\"Skills - Programming Language Counts:\")\n",
    "print(skills_lang_counts.most_common())"
   ]
  },
  {
   "cell_type": "code",
   "execution_count": 13,
   "id": "632f192b-a960-4e7f-9d99-0831062d6f73",
   "metadata": {},
   "outputs": [
    {
     "name": "stdout",
     "output_type": "stream",
     "text": [
      "Qualifications - Top 10 Minimum Qualifications:\n",
      "[('BCA', 2728), ('M.Com', 2702), ('M.Tech', 2677), ('MCA', 2676), ('MBA', 2669), ('B.Tech', 2664), ('BA', 2660), ('BBA', 2558), ('PhD', 2557), ('B.Com', 2549)]\n"
     ]
    }
   ],
   "source": [
    "# Combine all qualifications into a single string\n",
    "all_qualifications = ' '.join(df['Qualifications'].dropna())\n",
    "\n",
    "# Split into words and count\n",
    "qualification_words = all_qualifications.split()\n",
    "qualification_word_counts = Counter(qualification_words)\n",
    "\n",
    "# Get top 10 qualifications\n",
    "top_10_qualifications = qualification_word_counts.most_common(10)\n",
    "print(\"Qualifications - Top 10 Minimum Qualifications:\")\n",
    "print(top_10_qualifications)"
   ]
  },
  {
   "cell_type": "code",
   "execution_count": 15,
   "id": "b4023180-814e-452c-99b0-22bd505a4c93",
   "metadata": {},
   "outputs": [
    {
     "name": "stdout",
     "output_type": "stream",
     "text": [
      "Result Summary:\n",
      "- Under skills, SQL appeared the most, followed by Python and Java.\n",
      "- Individuals looking to enter data-related roles should ensure they are familiar with these 3 programming languages.\n",
      "- BCA (Bachelor of Computer Application) is the most commonly found education level for data-related jobs.\n",
      "- Other common qualifications include M.Com, M.Tech, and MCA.\n"
     ]
    }
   ],
   "source": [
    "# Summarize findings\n",
    "print(\"Result Summary:\")\n",
    "print(\"- Under skills, SQL appeared the most, followed by Python and Java.\")\n",
    "print(\"- Individuals looking to enter data-related roles should ensure they are familiar with these 3 programming languages.\")\n",
    "print(\"- BCA (Bachelor of Computer Application) is the most commonly found education level for data-related jobs.\")\n",
    "print(\"- Other common qualifications include M.Com, M.Tech, and MCA.\")"
   ]
  },
  {
   "cell_type": "code",
   "execution_count": null,
   "id": "d0618bb8-dd4f-4a20-bdd5-b5c520618a1d",
   "metadata": {},
   "outputs": [],
   "source": []
  }
 ],
 "metadata": {
  "kernelspec": {
   "display_name": "Python [conda env:base] *",
   "language": "python",
   "name": "conda-base-py"
  },
  "language_info": {
   "codemirror_mode": {
    "name": "ipython",
    "version": 3
   },
   "file_extension": ".py",
   "mimetype": "text/x-python",
   "name": "python",
   "nbconvert_exporter": "python",
   "pygments_lexer": "ipython3",
   "version": "3.12.7"
  }
 },
 "nbformat": 4,
 "nbformat_minor": 5
}
